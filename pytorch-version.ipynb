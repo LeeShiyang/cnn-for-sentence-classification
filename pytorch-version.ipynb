{
 "cells": [
  {
   "cell_type": "code",
   "execution_count": 1,
   "metadata": {
    "collapsed": true
   },
   "outputs": [],
   "source": [
    "import codecs\n",
    "import random\n",
    "import torch\n",
    "import torch.nn as nn\n",
    "import torch.nn.functional as F\n",
    "from torch.autograd import Variable\n",
    "\n",
    "use_cuda = torch.cuda.is_available()"
   ]
  },
  {
   "cell_type": "code",
   "execution_count": 2,
   "metadata": {},
   "outputs": [],
   "source": [
    "def load_data(fpath, label):\n",
    "    data = []\n",
    "    with codecs.open(fpath, 'r', 'utf-8', errors='ignore') as f:\n",
    "        lines = f.readlines()\n",
    "        for l in lines:\n",
    "            l = l.rstrip()\n",
    "            data.append((l.split(' '), label))\n",
    "    return data\n",
    "pos = load_data('./dataset/rt-polaritydata/rt-polarity.pos', 1)\n",
    "neg = load_data('./dataset/rt-polaritydata/rt-polarity.neg', 0)\n",
    "data = pos + neg"
   ]
  },
  {
   "cell_type": "code",
   "execution_count": 3,
   "metadata": {},
   "outputs": [
    {
     "name": "stdout",
     "output_type": "stream",
     "text": [
      "sentence maxlen 60\n",
      "vocab examples: ['', '!', '\"', '#3', '#9', '$1', '$100', '$20', '$40', '$50-million']\n",
      "vocab size 21384\n"
     ]
    }
   ],
   "source": [
    "max_sentence_len = max([len(sentence) for sentence, _ in data])\n",
    "print('sentence maxlen', max_sentence_len)\n",
    "\n",
    "vocab = []\n",
    "for d, _ in data:\n",
    "    for w in d:\n",
    "        if w not in vocab: vocab.append(w)\n",
    "vocab = sorted(vocab)\n",
    "vocab_size = len(vocab)\n",
    "print('vocab examples:', vocab[:10])\n",
    "print('vocab size', len(vocab))\n",
    "\n",
    "w2i = {w:i for i,w in enumerate(vocab)}\n",
    "i2w = {i:w for i,w in enumerate(vocab)}"
   ]
  },
  {
   "cell_type": "code",
   "execution_count": 4,
   "metadata": {},
   "outputs": [
    {
     "name": "stdout",
     "output_type": "stream",
     "text": [
      "n_train 8529\n",
      "n_test 2133\n"
     ]
    }
   ],
   "source": [
    "div_idx = (int)(len(data) * 0.8)\n",
    "random.shuffle(data)\n",
    "train_data = data[:div_idx]\n",
    "test_data = data[div_idx:]\n",
    "print('n_train', len(train_data))\n",
    "print('n_test', len(test_data))"
   ]
  },
  {
   "cell_type": "code",
   "execution_count": 5,
   "metadata": {},
   "outputs": [],
   "source": [
    "class Net(nn.Module):\n",
    "    def __init__(self, vocab_size, embd_size, out_chs, filter_heights):\n",
    "        super(Net, self).__init__()\n",
    "        self.embedding = nn.Embedding(vocab_size, embd_size)\n",
    "        # nn.Conv1d(in_channels, out_channels, kernel_size, stride=1, padding=0, ...\n",
    "        self.conv = nn.ModuleList([nn.Conv2d(1, out_chs, (fh, embd_size)) for fh in filter_heights])\n",
    "        self.dropout = nn.Dropout(.9)\n",
    "        self.fc1 = nn.Linear(out_chs*len(filter_heights), 1)\n",
    "        \n",
    "    def forward(self, x):\n",
    "        x = self.embedding(x) # (N, W, embd_dim)\n",
    "#         print('embd:', x.size())\n",
    "        x = x.unsqueeze(1) # (N, Ci, W, embd_dim)\n",
    "#         print('after unsq (add Ci)', x.size())\n",
    "        # Input: (N,Cin,Lin)\n",
    "        print('conv(x)', conv(x).size())\n",
    "        x = [F.relu(conv(x)).squeeze(3) for conv in self.conv] #[(N,Co,W), ...]*len(Ks)\n",
    "        x = [F.max_pool1d(i, i.size(2)).squeeze(2) for i in x] #[(N,Co), ...]*len(Ks)\n",
    "        x = torch.cat(x, 1)\n",
    "#         print('after cat each conv', x.size())\n",
    "        x = self.dropout(x)\n",
    "        x = self.fc1(x)\n",
    "#         print('befo sigmodi', x.size())\n",
    "        probs = F.sigmoid(x)\n",
    "        return probs\n"
   ]
  },
  {
   "cell_type": "code",
   "execution_count": 19,
   "metadata": {},
   "outputs": [
    {
     "name": "stdout",
     "output_type": "stream",
     "text": [
      "filter [1]\n",
      "epoch: 0, loss: 212.266\n",
      "epoch: 1, loss: 200.748\n",
      "epoch: 2, loss: 197.840\n",
      "epoch: 3, loss: 192.947\n",
      "epoch: 4, loss: 188.110\n",
      "epoch: 5, loss: 176.461\n",
      "epoch: 6, loss: 163.787\n",
      "epoch: 7, loss: 156.926\n",
      "epoch: 8, loss: 136.554\n",
      "epoch: 9, loss: 128.524\n",
      "Training avg loss: 175.416\n",
      "Test acc: 0.679 (1448/2133)\n",
      "filter [1, 2]\n",
      "epoch: 0, loss: 257.047\n",
      "epoch: 1, loss: 240.418\n",
      "epoch: 2, loss: 228.181\n",
      "epoch: 3, loss: 218.170\n",
      "epoch: 4, loss: 197.908\n",
      "epoch: 5, loss: 171.740\n",
      "epoch: 6, loss: 144.759\n",
      "epoch: 7, loss: 126.194\n",
      "epoch: 8, loss: 104.050\n",
      "epoch: 9, loss: 93.226\n",
      "Training avg loss: 178.169\n",
      "Test acc: 0.681 (1452/2133)\n",
      "filter [1, 2, 3, 4]\n",
      "epoch: 0, loss: 445.860\n",
      "epoch: 1, loss: 348.354\n",
      "epoch: 2, loss: 276.306\n",
      "epoch: 3, loss: 262.734\n",
      "epoch: 4, loss: 229.092\n",
      "epoch: 5, loss: 196.226\n",
      "epoch: 6, loss: 157.506\n",
      "epoch: 7, loss: 133.629\n",
      "epoch: 8, loss: 120.108\n",
      "epoch: 9, loss: 113.173\n",
      "Training avg loss: 228.299\n",
      "Test acc: 0.686 (1464/2133)\n"
     ]
    }
   ],
   "source": [
    "def train(model, data, batch_size, n_epoch):\n",
    "    model.train() # Sets the module in training mode. This has any effect only on modules such as Dropout or BatchNorm.\n",
    "    if use_cuda:\n",
    "        model.cuda()\n",
    "    losses = []\n",
    "    optimizer = torch.optim.Adam(model.parameters(), lr=0.01)\n",
    "    for epoch in range(n_epoch):\n",
    "        epoch_loss = 0.0\n",
    "        random.shuffle(data)\n",
    "        for i in range(0, len(data)-batch_size, batch_size): # discard some last elements\n",
    "            in_data, labels = [], []\n",
    "            for sentence, label in data[i: i+batch_size]:\n",
    "                index_vec = [w2i[w] for w in sentence]\n",
    "                pad_len = max(0, max_sentence_len - len(index_vec))\n",
    "                index_vec += [0] * pad_len\n",
    "                index_vec = index_vec[:max_sentence_len] ## TBD for same len\n",
    "                in_data.append(index_vec)\n",
    "                labels.append(label)\n",
    "#             print('input len:', len(index_vec))\n",
    "            sent_var = Variable(torch.LongTensor(in_data))\n",
    "            if use_cuda: sent_var = sent_var.cuda()\n",
    "\n",
    "            target_var = Variable(torch.Tensor(labels).unsqueeze(1))\n",
    "            if use_cuda: target_var = target_var.cuda()\n",
    "#             print('input_size', sent_var.size())\n",
    "#             print('targe_size', target_var.size())\n",
    "            optimizer.zero_grad()\n",
    "            probs = model(sent_var)\n",
    "            loss = F.binary_cross_entropy(probs, target_var)\n",
    "            loss.backward()\n",
    "            optimizer.step()\n",
    "            \n",
    "            epoch_loss += loss.data[0]\n",
    "        print('epoch: {:d}, loss: {:.3f}'.format(epoch, epoch_loss))\n",
    "        losses.append(epoch_loss)\n",
    "    print('Training avg loss: {:.3f}'.format(sum(losses)/len(losses)))\n",
    "        \n",
    "    return model, losses\n",
    "\n",
    "def test(model, data, n_test, min_sentence_len):\n",
    "    model.eval()\n",
    "    loss = 0\n",
    "    correct = 0\n",
    "    for sentence, label in data[:n_test]:\n",
    "        if len(sentence) < min_sentence_len:  # to short for CNN\n",
    "            continue\n",
    "        index_vec = [w2i[w] for w in sentence]\n",
    "        sent_var = Variable(torch.LongTensor([index_vec]))\n",
    "        if use_cuda: sent_var = sent_var.cuda()\n",
    "        out = model(sent_var)\n",
    "        pred = 1 if out.data[0][0] > .5 else 0\n",
    "        if pred == label:\n",
    "            correct += 1\n",
    "    print('Test acc: {:.3f} ({:d}/{:d})'.format(correct/n_test, correct, n_test))\n",
    "        \n",
    "out_ch = 100\n",
    "embd_size = 64\n",
    "batch_size = 32\n",
    "n_epoch = 10\n",
    "filter_variations = [[1], [1,2], [1,2,3,4]]\n",
    "for fil in filter_variations:\n",
    "    print('filter', fil)\n",
    "    model = Net(vocab_size, embd_size, out_ch, fil)\n",
    "    # print(model)\n",
    "    model, losses = train(model, train_data, batch_size, n_epoch)\n",
    "    test(model, test_data, len(test_data), max(fil))"
   ]
  },
  {
   "cell_type": "code",
   "execution_count": null,
   "metadata": {
    "collapsed": true
   },
   "outputs": [],
   "source": []
  }
 ],
 "metadata": {
  "kernelspec": {
   "display_name": "Python 3",
   "language": "python",
   "name": "python3"
  },
  "language_info": {
   "codemirror_mode": {
    "name": "ipython",
    "version": 3
   },
   "file_extension": ".py",
   "mimetype": "text/x-python",
   "name": "python",
   "nbconvert_exporter": "python",
   "pygments_lexer": "ipython3",
   "version": "3.6.1"
  }
 },
 "nbformat": 4,
 "nbformat_minor": 2
}

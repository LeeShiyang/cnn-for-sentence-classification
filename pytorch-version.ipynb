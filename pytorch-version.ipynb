{
 "cells": [
  {
   "cell_type": "code",
   "execution_count": 94,
   "metadata": {
    "collapsed": true
   },
   "outputs": [],
   "source": [
    "import codecs\n",
    "import random\n",
    "import torch\n",
    "import torch.nn as nn\n",
    "import torch.nn.functional as F\n",
    "from torch.autograd import Variable\n",
    "\n",
    "use_cuda = torch.cuda.is_available()"
   ]
  },
  {
   "cell_type": "code",
   "execution_count": 7,
   "metadata": {},
   "outputs": [],
   "source": [
    "def load_data(fpath, label):\n",
    "    data = []\n",
    "    with codecs.open(fpath, 'r', 'utf-8', errors='ignore') as f:\n",
    "        lines = f.readlines()\n",
    "        for l in lines:\n",
    "            l = l.rstrip()\n",
    "            data.append((l.split(' '), label))\n",
    "    return data\n",
    "pos = load_data('./dataset/rt-polaritydata/rt-polarity.pos', 1)\n",
    "neg = load_data('./dataset/rt-polaritydata/rt-polarity.neg', 0)\n",
    "data = pos + neg"
   ]
  },
  {
   "cell_type": "code",
   "execution_count": 9,
   "metadata": {},
   "outputs": [
    {
     "name": "stdout",
     "output_type": "stream",
     "text": [
      "sentence maxlen 60\n",
      "vocab examples: ['', '!', '\"', '#3', '#9', '$1', '$100', '$20', '$40', '$50-million']\n",
      "vocab size 21384\n"
     ]
    },
    {
     "data": {
      "text/plain": [
       "3550"
      ]
     },
     "execution_count": 9,
     "metadata": {},
     "output_type": "execute_result"
    }
   ],
   "source": [
    "sentence_maxlen = max(map(len, (d for d, _ in data)))\n",
    "\n",
    "print('sentence maxlen', sentence_maxlen)\n",
    "vocab = []\n",
    "for d, _ in data:\n",
    "    for w in d:\n",
    "        if w not in vocab: vocab.append(w)\n",
    "vocab = sorted(vocab)\n",
    "vocab_size = len(vocab)\n",
    "print('vocab examples:', vocab[:10])\n",
    "\n",
    "print('vocab size', len(vocab))\n",
    "w2i = {w:i for i,w in enumerate(vocab)}\n",
    "i2w = {i:w for i,w in enumerate(vocab)}\n",
    "w2i['character']"
   ]
  },
  {
   "cell_type": "code",
   "execution_count": 63,
   "metadata": {},
   "outputs": [],
   "source": [
    "class Net(nn.Module):\n",
    "    def __init__(self, vocab_size, embd_size, out_chs, filter_heights=[1]):\n",
    "        super(Net, self).__init__()\n",
    "        self.embedding = nn.Embedding(vocab_size, embd_size)\n",
    "        self.conv = nn.ModuleList([nn.Conv2d(1, out_chs, (fh, embd_size)) for fh in filter_heights])\n",
    "        # nn.Conv1d(in_channels, out_channels, kernel_size, stride=1, padding=0, ...\n",
    "        # Input: (N,Cin,Lin)\n",
    "        self.dropout = nn.Dropout(.8)\n",
    "        self.fc1 = nn.Linear(out_chs*len(filter_heights), 1)\n",
    "        \n",
    "    def forward(self, x):\n",
    "        x = self.embedding(x) # (N, W, embd_dim)\n",
    "#         print('embd:', x.size())\n",
    "        x = x.unsqueeze(1) # (N, Ci, W, embd_dim)\n",
    "#         print('after unsq (add Ci)', x.size())\n",
    "        x = [F.relu(conv(x)).squeeze(3) for conv in self.conv] #[(N,Co,W), ...]*len(Ks)\n",
    "        x = [F.max_pool1d(i, i.size(2)).squeeze(2) for i in x] #[(N,Co), ...]*len(Ks)\n",
    "        x = torch.cat(x, 1)\n",
    "#         print('after cat each conv', x.size())\n",
    "#         x = self.dropout(x)\n",
    "        x = self.fc1(x)\n",
    "#         print('befo sigmodi', x.size())\n",
    "        probs = F.sigmoid(x)\n",
    "        return probs\n"
   ]
  },
  {
   "cell_type": "code",
   "execution_count": 97,
   "metadata": {},
   "outputs": [
    {
     "name": "stdout",
     "output_type": "stream",
     "text": [
      "Net (\n",
      "  (embedding): Embedding(21384, 64)\n",
      "  (conv): ModuleList (\n",
      "    (0): Conv2d(1, 100, kernel_size=(1, 64), stride=(1, 1))\n",
      "  )\n",
      "  (dropout): Dropout (p = 0.8)\n",
      "  (fc1): Linear (100 -> 1)\n",
      ")\n",
      "epoch: 0\n"
     ]
    },
    {
     "name": "stderr",
     "output_type": "stream",
     "text": [
      "/home/jonki/anaconda3/lib/python3.6/site-packages/torch/nn/functional.py:767: UserWarning: Using a target size (torch.Size([32])) that is different to the input size (torch.Size([32, 1])) is deprecated. Please ensure they have the same size.\n",
      "  \"Please ensure they have the same size.\".format(target.size(), input.size()))\n"
     ]
    },
    {
     "name": "stdout",
     "output_type": "stream",
     "text": [
      "loss: 225.07881835103035\n",
      "epoch: 1\n",
      "loss: 176.28074941039085\n",
      "epoch: 2\n",
      "loss: 137.1305878609419\n",
      "epoch: 3\n",
      "loss: 112.6871062591672\n",
      "epoch: 4\n",
      "loss: 96.55870608985424\n",
      "epoch: 5\n",
      "loss: 81.01027216762304\n",
      "epoch: 6\n",
      "loss: 71.85481908358634\n",
      "epoch: 7\n",
      "loss: 62.37454151362181\n",
      "epoch: 8\n",
      "loss: 55.18156692944467\n",
      "epoch: 9\n",
      "loss: 51.54497100180015\n",
      "[225.07881835103035, 176.28074941039085, 137.1305878609419, 112.6871062591672, 96.55870608985424, 81.01027216762304, 71.85481908358634, 62.37454151362181, 55.18156692944467, 51.54497100180015]\n"
     ]
    }
   ],
   "source": [
    "max_sentence_len = 5\n",
    "def train(model):\n",
    "    if use_cuda:\n",
    "        model.cuda()\n",
    "    losses = []\n",
    "    for epoch in range(10):\n",
    "        print('epoch:', epoch)\n",
    "        epoch_loss = 0.0\n",
    "        bs = 32\n",
    "        optimizer = torch.optim.Adam(model.parameters(), lr=0.01)\n",
    "        random.shuffle(data)\n",
    "#         for sentence, label in data:\n",
    "        for i in range(0, len(data)-bs, bs):\n",
    "            in_data, labels = [], []\n",
    "            for sentence, label in data[i: i+bs]:\n",
    "                index_vec = [w2i[w] for w in sentence]\n",
    "                pad_len = max(0, max_sentence_len - len(index_vec))\n",
    "                index_vec += [0] * pad_len\n",
    "                index_vec = index_vec[:max_sentence_len] ## TBD for same len\n",
    "                in_data.append(index_vec)\n",
    "                labels.append(label)\n",
    "#             print('input len:', len(index_vec))\n",
    "            sent_var = Variable(torch.LongTensor(in_data))\n",
    "            if use_cuda: sent_var = sent_var.cuda()\n",
    "\n",
    "            target_var = Variable(torch.Tensor(labels))\n",
    "            if use_cuda: target_var = target_var.cuda()\n",
    "            \n",
    "            optimizer.zero_grad()\n",
    "            probs = model(sent_var)\n",
    "            loss = F.binary_cross_entropy(probs, target_var)\n",
    "            loss.backward()\n",
    "            optimizer.step()\n",
    "            \n",
    "            epoch_loss += loss.data[0]\n",
    "        print('loss:', epoch_loss)\n",
    "        losses.append(epoch_loss)\n",
    "        \n",
    "    return model, losses\n",
    "        \n",
    "out_ch = 100\n",
    "embd_size = 64\n",
    "model = Net(vocab_size, embd_size, out_ch)\n",
    "print(model)\n",
    "model, losses = train(model)\n",
    "print(losses)"
   ]
  },
  {
   "cell_type": "code",
   "execution_count": null,
   "metadata": {
    "collapsed": true
   },
   "outputs": [],
   "source": []
  }
 ],
 "metadata": {
  "kernelspec": {
   "display_name": "Python 3",
   "language": "python",
   "name": "python3"
  },
  "language_info": {
   "codemirror_mode": {
    "name": "ipython",
    "version": 3
   },
   "file_extension": ".py",
   "mimetype": "text/x-python",
   "name": "python",
   "nbconvert_exporter": "python",
   "pygments_lexer": "ipython3",
   "version": "3.6.1"
  }
 },
 "nbformat": 4,
 "nbformat_minor": 2
}
